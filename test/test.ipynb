{
 "cells": [
  {
   "cell_type": "code",
   "execution_count": 6,
   "id": "c0cba22d-ddd0-4ebb-a877-909929d610c0",
   "metadata": {
    "scrolled": true
   },
   "outputs": [
    {
     "name": "stdout",
     "output_type": "stream",
     "text": [
      "Requirement already satisfied: kaggle in c:\\users\\utilizador\\anaconda3\\lib\\site-packages (1.6.17)\n",
      "Requirement already satisfied: six>=1.10 in c:\\users\\utilizador\\anaconda3\\lib\\site-packages (from kaggle) (1.16.0)\n",
      "Requirement already satisfied: certifi>=2023.7.22 in c:\\users\\utilizador\\anaconda3\\lib\\site-packages (from kaggle) (2024.12.14)\n",
      "Requirement already satisfied: python-dateutil in c:\\users\\utilizador\\anaconda3\\lib\\site-packages (from kaggle) (2.9.0.post0)\n",
      "Requirement already satisfied: requests in c:\\users\\utilizador\\anaconda3\\lib\\site-packages (from kaggle) (2.32.2)\n",
      "Requirement already satisfied: tqdm in c:\\users\\utilizador\\anaconda3\\lib\\site-packages (from kaggle) (4.66.4)\n",
      "Requirement already satisfied: python-slugify in c:\\users\\utilizador\\anaconda3\\lib\\site-packages (from kaggle) (5.0.2)\n",
      "Requirement already satisfied: urllib3 in c:\\users\\utilizador\\anaconda3\\lib\\site-packages (from kaggle) (2.2.2)\n",
      "Requirement already satisfied: bleach in c:\\users\\utilizador\\anaconda3\\lib\\site-packages (from kaggle) (4.1.0)\n",
      "Requirement already satisfied: packaging in c:\\users\\utilizador\\anaconda3\\lib\\site-packages (from bleach->kaggle) (23.2)\n",
      "Requirement already satisfied: webencodings in c:\\users\\utilizador\\anaconda3\\lib\\site-packages (from bleach->kaggle) (0.5.1)\n",
      "Requirement already satisfied: text-unidecode>=1.3 in c:\\users\\utilizador\\anaconda3\\lib\\site-packages (from python-slugify->kaggle) (1.3)\n",
      "Requirement already satisfied: charset-normalizer<4,>=2 in c:\\users\\utilizador\\anaconda3\\lib\\site-packages (from requests->kaggle) (2.0.4)\n",
      "Requirement already satisfied: idna<4,>=2.5 in c:\\users\\utilizador\\anaconda3\\lib\\site-packages (from requests->kaggle) (3.7)\n",
      "Requirement already satisfied: colorama in c:\\users\\utilizador\\anaconda3\\lib\\site-packages (from tqdm->kaggle) (0.4.6)\n"
     ]
    }
   ],
   "source": [
    "!pip install kaggle"
   ]
  },
  {
   "cell_type": "code",
   "execution_count": 9,
   "id": "4a88594c-ae92-4ab9-9d91-93f72e1bff63",
   "metadata": {},
   "outputs": [
    {
     "data": {
      "text/plain": [
       "0"
      ]
     },
     "execution_count": 9,
     "metadata": {},
     "output_type": "execute_result"
    }
   ],
   "source": [
    "import os\n",
    "\n",
    "dataset_ref = \"sudalairajkumar/cryptocurrencypricehistory\"\n",
    "\n",
    "#download dataset via CLI\n",
    "os.system(f\"kaggle datasets download -d {dataset_ref}\")"
   ]
  },
  {
   "cell_type": "code",
   "execution_count": 13,
   "id": "0da78be4-514a-43d0-ae0f-0bc470eec254",
   "metadata": {},
   "outputs": [
    {
     "name": "stdout",
     "output_type": "stream",
     "text": [
      "Extracted files: ['coin_Aave.csv', 'coin_BinanceCoin.csv', 'coin_Bitcoin.csv', 'coin_Cardano.csv', 'coin_ChainLink.csv', 'coin_Cosmos.csv', 'coin_CryptocomCoin.csv', 'coin_Dogecoin.csv', 'coin_EOS.csv', 'coin_Ethereum.csv', 'coin_Iota.csv', 'coin_Litecoin.csv', 'coin_Monero.csv', 'coin_NEM.csv', 'coin_Polkadot.csv', 'coin_Solana.csv', 'coin_Stellar.csv', 'coin_Tether.csv', 'coin_Tron.csv', 'coin_Uniswap.csv', 'coin_USDCoin.csv', 'coin_WrappedBitcoin.csv', 'coin_XRP.csv']\n"
     ]
    }
   ],
   "source": [
    "import zipfile\n",
    "\n",
    "zip_name = \"cryptocurrencypricehistory.zip\"\n",
    "extract_folder = \"my_dataset\"\n",
    "\n",
    "# Extract all files from the ZIP\n",
    "with zipfile.ZipFile(zip_name, \"r\") as zip_ref:\n",
    "    zip_ref.extractall(extract_folder)\n",
    "\n",
    "# List extracted files\n",
    "file_list = os.listdir(extract_folder)\n",
    "print(\"Extracted files:\", file_list)"
   ]
  },
  {
   "cell_type": "code",
   "execution_count": null,
   "id": "3fbceb46-3881-448a-9deb-aed59f914c8a",
   "metadata": {},
   "outputs": [],
   "source": []
  }
 ],
 "metadata": {
  "kernelspec": {
   "display_name": "Python 3 (ipykernel)",
   "language": "python",
   "name": "python3"
  },
  "language_info": {
   "codemirror_mode": {
    "name": "ipython",
    "version": 3
   },
   "file_extension": ".py",
   "mimetype": "text/x-python",
   "name": "python",
   "nbconvert_exporter": "python",
   "pygments_lexer": "ipython3",
   "version": "3.12.4"
  }
 },
 "nbformat": 4,
 "nbformat_minor": 5
}
