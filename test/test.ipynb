{
 "cells": [
  {
   "cell_type": "code",
   "execution_count": 6,
   "id": "c0cba22d-ddd0-4ebb-a877-909929d610c0",
   "metadata": {
    "scrolled": true
   },
   "outputs": [
    {
     "name": "stdout",
     "output_type": "stream",
     "text": [
      "Requirement already satisfied: kaggle in c:\\users\\utilizador\\anaconda3\\lib\\site-packages (1.6.17)\n",
      "Requirement already satisfied: six>=1.10 in c:\\users\\utilizador\\anaconda3\\lib\\site-packages (from kaggle) (1.16.0)\n",
      "Requirement already satisfied: certifi>=2023.7.22 in c:\\users\\utilizador\\anaconda3\\lib\\site-packages (from kaggle) (2024.12.14)\n",
      "Requirement already satisfied: python-dateutil in c:\\users\\utilizador\\anaconda3\\lib\\site-packages (from kaggle) (2.9.0.post0)\n",
      "Requirement already satisfied: requests in c:\\users\\utilizador\\anaconda3\\lib\\site-packages (from kaggle) (2.32.2)\n",
      "Requirement already satisfied: tqdm in c:\\users\\utilizador\\anaconda3\\lib\\site-packages (from kaggle) (4.66.4)\n",
      "Requirement already satisfied: python-slugify in c:\\users\\utilizador\\anaconda3\\lib\\site-packages (from kaggle) (5.0.2)\n",
      "Requirement already satisfied: urllib3 in c:\\users\\utilizador\\anaconda3\\lib\\site-packages (from kaggle) (2.2.2)\n",
      "Requirement already satisfied: bleach in c:\\users\\utilizador\\anaconda3\\lib\\site-packages (from kaggle) (4.1.0)\n",
      "Requirement already satisfied: packaging in c:\\users\\utilizador\\anaconda3\\lib\\site-packages (from bleach->kaggle) (23.2)\n",
      "Requirement already satisfied: webencodings in c:\\users\\utilizador\\anaconda3\\lib\\site-packages (from bleach->kaggle) (0.5.1)\n",
      "Requirement already satisfied: text-unidecode>=1.3 in c:\\users\\utilizador\\anaconda3\\lib\\site-packages (from python-slugify->kaggle) (1.3)\n",
      "Requirement already satisfied: charset-normalizer<4,>=2 in c:\\users\\utilizador\\anaconda3\\lib\\site-packages (from requests->kaggle) (2.0.4)\n",
      "Requirement already satisfied: idna<4,>=2.5 in c:\\users\\utilizador\\anaconda3\\lib\\site-packages (from requests->kaggle) (3.7)\n",
      "Requirement already satisfied: colorama in c:\\users\\utilizador\\anaconda3\\lib\\site-packages (from tqdm->kaggle) (0.4.6)\n"
     ]
    }
   ],
   "source": [
    "!pip install kaggle"
   ]
  },
  {
   "cell_type": "code",
   "execution_count": 9,
   "id": "4a88594c-ae92-4ab9-9d91-93f72e1bff63",
   "metadata": {},
   "outputs": [
    {
     "data": {
      "text/plain": [
       "0"
      ]
     },
     "execution_count": 9,
     "metadata": {},
     "output_type": "execute_result"
    }
   ],
   "source": [
    "import os\n",
    "\n",
    "dataset_ref = \"sudalairajkumar/cryptocurrencypricehistory\"\n",
    "\n",
    "#download dataset via CLI\n",
    "os.system(f\"kaggle datasets download -d {dataset_ref}\")"
   ]
  },
  {
   "cell_type": "code",
   "execution_count": 13,
   "id": "0da78be4-514a-43d0-ae0f-0bc470eec254",
   "metadata": {},
   "outputs": [
    {
     "name": "stdout",
     "output_type": "stream",
     "text": [
      "Extracted files: ['coin_Aave.csv', 'coin_BinanceCoin.csv', 'coin_Bitcoin.csv', 'coin_Cardano.csv', 'coin_ChainLink.csv', 'coin_Cosmos.csv', 'coin_CryptocomCoin.csv', 'coin_Dogecoin.csv', 'coin_EOS.csv', 'coin_Ethereum.csv', 'coin_Iota.csv', 'coin_Litecoin.csv', 'coin_Monero.csv', 'coin_NEM.csv', 'coin_Polkadot.csv', 'coin_Solana.csv', 'coin_Stellar.csv', 'coin_Tether.csv', 'coin_Tron.csv', 'coin_Uniswap.csv', 'coin_USDCoin.csv', 'coin_WrappedBitcoin.csv', 'coin_XRP.csv']\n"
     ]
    }
   ],
   "source": [
    "import zipfile\n",
    "\n",
    "zip_name = \"cryptocurrencypricehistory.zip\"\n",
    "extract_folder = \"my_dataset\"\n",
    "\n",
    "# Extract all files from the ZIP\n",
    "with zipfile.ZipFile(zip_name, \"r\") as zip_ref:\n",
    "    zip_ref.extractall(extract_folder)\n",
    "\n",
    "# List extracted files\n",
    "file_list = os.listdir(extract_folder)\n",
    "print(\"Extracted files:\", file_list)"
   ]
  },
  {
   "cell_type": "code",
   "execution_count": 6,
   "id": "3fbceb46-3881-448a-9deb-aed59f914c8a",
   "metadata": {},
   "outputs": [
    {
     "data": {
      "text/html": [
       "<div>\n",
       "<style scoped>\n",
       "    .dataframe tbody tr th:only-of-type {\n",
       "        vertical-align: middle;\n",
       "    }\n",
       "\n",
       "    .dataframe tbody tr th {\n",
       "        vertical-align: top;\n",
       "    }\n",
       "\n",
       "    .dataframe thead th {\n",
       "        text-align: right;\n",
       "    }\n",
       "</style>\n",
       "<table border=\"1\" class=\"dataframe\">\n",
       "  <thead>\n",
       "    <tr style=\"text-align: right;\">\n",
       "      <th></th>\n",
       "      <th>SNo</th>\n",
       "      <th>Name</th>\n",
       "      <th>Symbol</th>\n",
       "      <th>Date</th>\n",
       "      <th>High</th>\n",
       "      <th>Low</th>\n",
       "      <th>Open</th>\n",
       "      <th>Close</th>\n",
       "      <th>Volume</th>\n",
       "      <th>Marketcap</th>\n",
       "    </tr>\n",
       "  </thead>\n",
       "  <tbody>\n",
       "    <tr>\n",
       "      <th>0</th>\n",
       "      <td>1</td>\n",
       "      <td>Aave</td>\n",
       "      <td>AAVE</td>\n",
       "      <td>2020-10-05 23:59:59</td>\n",
       "      <td>55.112358</td>\n",
       "      <td>49.787900</td>\n",
       "      <td>52.675035</td>\n",
       "      <td>53.219243</td>\n",
       "      <td>0.000000e+00</td>\n",
       "      <td>8.912813e+07</td>\n",
       "    </tr>\n",
       "    <tr>\n",
       "      <th>1</th>\n",
       "      <td>2</td>\n",
       "      <td>Aave</td>\n",
       "      <td>AAVE</td>\n",
       "      <td>2020-10-06 23:59:59</td>\n",
       "      <td>53.402270</td>\n",
       "      <td>40.734578</td>\n",
       "      <td>53.291969</td>\n",
       "      <td>42.401599</td>\n",
       "      <td>5.830915e+05</td>\n",
       "      <td>7.101144e+07</td>\n",
       "    </tr>\n",
       "    <tr>\n",
       "      <th>2</th>\n",
       "      <td>3</td>\n",
       "      <td>Aave</td>\n",
       "      <td>AAVE</td>\n",
       "      <td>2020-10-07 23:59:59</td>\n",
       "      <td>42.408314</td>\n",
       "      <td>35.970690</td>\n",
       "      <td>42.399947</td>\n",
       "      <td>40.083976</td>\n",
       "      <td>6.828342e+05</td>\n",
       "      <td>6.713004e+07</td>\n",
       "    </tr>\n",
       "    <tr>\n",
       "      <th>3</th>\n",
       "      <td>4</td>\n",
       "      <td>Aave</td>\n",
       "      <td>AAVE</td>\n",
       "      <td>2020-10-08 23:59:59</td>\n",
       "      <td>44.902511</td>\n",
       "      <td>36.696057</td>\n",
       "      <td>39.885262</td>\n",
       "      <td>43.764463</td>\n",
       "      <td>1.658817e+06</td>\n",
       "      <td>2.202651e+08</td>\n",
       "    </tr>\n",
       "    <tr>\n",
       "      <th>4</th>\n",
       "      <td>5</td>\n",
       "      <td>Aave</td>\n",
       "      <td>AAVE</td>\n",
       "      <td>2020-10-09 23:59:59</td>\n",
       "      <td>47.569533</td>\n",
       "      <td>43.291776</td>\n",
       "      <td>43.764463</td>\n",
       "      <td>46.817744</td>\n",
       "      <td>8.155377e+05</td>\n",
       "      <td>2.356322e+08</td>\n",
       "    </tr>\n",
       "    <tr>\n",
       "      <th>...</th>\n",
       "      <td>...</td>\n",
       "      <td>...</td>\n",
       "      <td>...</td>\n",
       "      <td>...</td>\n",
       "      <td>...</td>\n",
       "      <td>...</td>\n",
       "      <td>...</td>\n",
       "      <td>...</td>\n",
       "      <td>...</td>\n",
       "      <td>...</td>\n",
       "    </tr>\n",
       "    <tr>\n",
       "      <th>270</th>\n",
       "      <td>271</td>\n",
       "      <td>Aave</td>\n",
       "      <td>AAVE</td>\n",
       "      <td>2021-07-02 23:59:59</td>\n",
       "      <td>234.483957</td>\n",
       "      <td>215.951539</td>\n",
       "      <td>230.814119</td>\n",
       "      <td>233.948437</td>\n",
       "      <td>2.566395e+08</td>\n",
       "      <td>3.001542e+09</td>\n",
       "    </tr>\n",
       "    <tr>\n",
       "      <th>271</th>\n",
       "      <td>272</td>\n",
       "      <td>Aave</td>\n",
       "      <td>AAVE</td>\n",
       "      <td>2021-07-03 23:59:59</td>\n",
       "      <td>265.107342</td>\n",
       "      <td>228.485206</td>\n",
       "      <td>234.208478</td>\n",
       "      <td>259.655225</td>\n",
       "      <td>3.853778e+08</td>\n",
       "      <td>3.331546e+09</td>\n",
       "    </tr>\n",
       "    <tr>\n",
       "      <th>272</th>\n",
       "      <td>273</td>\n",
       "      <td>Aave</td>\n",
       "      <td>AAVE</td>\n",
       "      <td>2021-07-04 23:59:59</td>\n",
       "      <td>289.001124</td>\n",
       "      <td>248.285491</td>\n",
       "      <td>259.399426</td>\n",
       "      <td>277.038792</td>\n",
       "      <td>4.275719e+08</td>\n",
       "      <td>3.555054e+09</td>\n",
       "    </tr>\n",
       "    <tr>\n",
       "      <th>273</th>\n",
       "      <td>274</td>\n",
       "      <td>Aave</td>\n",
       "      <td>AAVE</td>\n",
       "      <td>2021-07-05 23:59:59</td>\n",
       "      <td>317.387234</td>\n",
       "      <td>263.433881</td>\n",
       "      <td>277.110533</td>\n",
       "      <td>307.829079</td>\n",
       "      <td>7.931409e+08</td>\n",
       "      <td>3.950269e+09</td>\n",
       "    </tr>\n",
       "    <tr>\n",
       "      <th>274</th>\n",
       "      <td>275</td>\n",
       "      <td>Aave</td>\n",
       "      <td>AAVE</td>\n",
       "      <td>2021-07-06 23:59:59</td>\n",
       "      <td>346.714780</td>\n",
       "      <td>307.997525</td>\n",
       "      <td>307.997525</td>\n",
       "      <td>316.898507</td>\n",
       "      <td>9.887055e+08</td>\n",
       "      <td>4.066776e+09</td>\n",
       "    </tr>\n",
       "  </tbody>\n",
       "</table>\n",
       "<p>275 rows × 10 columns</p>\n",
       "</div>"
      ],
      "text/plain": [
       "     SNo  Name Symbol                 Date        High         Low  \\\n",
       "0      1  Aave   AAVE  2020-10-05 23:59:59   55.112358   49.787900   \n",
       "1      2  Aave   AAVE  2020-10-06 23:59:59   53.402270   40.734578   \n",
       "2      3  Aave   AAVE  2020-10-07 23:59:59   42.408314   35.970690   \n",
       "3      4  Aave   AAVE  2020-10-08 23:59:59   44.902511   36.696057   \n",
       "4      5  Aave   AAVE  2020-10-09 23:59:59   47.569533   43.291776   \n",
       "..   ...   ...    ...                  ...         ...         ...   \n",
       "270  271  Aave   AAVE  2021-07-02 23:59:59  234.483957  215.951539   \n",
       "271  272  Aave   AAVE  2021-07-03 23:59:59  265.107342  228.485206   \n",
       "272  273  Aave   AAVE  2021-07-04 23:59:59  289.001124  248.285491   \n",
       "273  274  Aave   AAVE  2021-07-05 23:59:59  317.387234  263.433881   \n",
       "274  275  Aave   AAVE  2021-07-06 23:59:59  346.714780  307.997525   \n",
       "\n",
       "           Open       Close        Volume     Marketcap  \n",
       "0     52.675035   53.219243  0.000000e+00  8.912813e+07  \n",
       "1     53.291969   42.401599  5.830915e+05  7.101144e+07  \n",
       "2     42.399947   40.083976  6.828342e+05  6.713004e+07  \n",
       "3     39.885262   43.764463  1.658817e+06  2.202651e+08  \n",
       "4     43.764463   46.817744  8.155377e+05  2.356322e+08  \n",
       "..          ...         ...           ...           ...  \n",
       "270  230.814119  233.948437  2.566395e+08  3.001542e+09  \n",
       "271  234.208478  259.655225  3.853778e+08  3.331546e+09  \n",
       "272  259.399426  277.038792  4.275719e+08  3.555054e+09  \n",
       "273  277.110533  307.829079  7.931409e+08  3.950269e+09  \n",
       "274  307.997525  316.898507  9.887055e+08  4.066776e+09  \n",
       "\n",
       "[275 rows x 10 columns]"
      ]
     },
     "execution_count": 6,
     "metadata": {},
     "output_type": "execute_result"
    }
   ],
   "source": [
    "import pandas as pd\n",
    "\n",
    "dataframe = pd.read_csv(\"../src/my_dataset/coin_Aave.csv\")\n",
    "dataframe"
   ]
  },
  {
   "cell_type": "code",
   "execution_count": 7,
   "id": "e2ab4893-8d6d-411e-8bf5-20ac7715becb",
   "metadata": {},
   "outputs": [
    {
     "name": "stdout",
     "output_type": "stream",
     "text": [
      "<class 'pandas.core.frame.DataFrame'>\n",
      "RangeIndex: 275 entries, 0 to 274\n",
      "Data columns (total 10 columns):\n",
      " #   Column     Non-Null Count  Dtype  \n",
      "---  ------     --------------  -----  \n",
      " 0   SNo        275 non-null    int64  \n",
      " 1   Name       275 non-null    object \n",
      " 2   Symbol     275 non-null    object \n",
      " 3   Date       275 non-null    object \n",
      " 4   High       275 non-null    float64\n",
      " 5   Low        275 non-null    float64\n",
      " 6   Open       275 non-null    float64\n",
      " 7   Close      275 non-null    float64\n",
      " 8   Volume     275 non-null    float64\n",
      " 9   Marketcap  275 non-null    float64\n",
      "dtypes: float64(6), int64(1), object(3)\n",
      "memory usage: 21.6+ KB\n",
      "None\n"
     ]
    }
   ],
   "source": [
    "print(dataframe.info())"
   ]
  },
  {
   "cell_type": "code",
   "execution_count": 8,
   "id": "1777bb4a-f471-4f8a-ab65-e0c31c93cd18",
   "metadata": {},
   "outputs": [
    {
     "name": "stdout",
     "output_type": "stream",
     "text": [
      "True\n"
     ]
    }
   ],
   "source": [
    "# checking if NSo is primary key, true means yes\n",
    "print(dataframe[\"SNo\"].is_unique)"
   ]
  },
  {
   "cell_type": "code",
   "execution_count": 9,
   "id": "a2255dd0-5539-41cc-a622-2e76e88c7bc8",
   "metadata": {},
   "outputs": [
    {
     "name": "stdout",
     "output_type": "stream",
     "text": [
      "False\n"
     ]
    }
   ],
   "source": [
    "print(dataframe[\"Name\"].is_unique)"
   ]
  },
  {
   "cell_type": "code",
   "execution_count": 10,
   "id": "35815541-f842-4462-80d5-81d9dc15e762",
   "metadata": {},
   "outputs": [
    {
     "name": "stdout",
     "output_type": "stream",
     "text": [
      "True\n"
     ]
    }
   ],
   "source": [
    "print(dataframe[\"Date\"].is_unique)"
   ]
  },
  {
   "cell_type": "code",
   "execution_count": 18,
   "id": "d9e3c515-fd1e-41ee-bcf3-6d48a60ec53f",
   "metadata": {},
   "outputs": [
    {
     "name": "stdout",
     "output_type": "stream",
     "text": [
      "SNo True 0\n",
      "Name False 0\n",
      "Symbol False 0\n",
      "Date True 0\n",
      "High True 0\n",
      "Low True 0\n",
      "Open True 0\n",
      "Close True 0\n",
      "Volume True 0\n",
      "Marketcap True 0\n"
     ]
    }
   ],
   "source": [
    "for column in dataframe.columns:\n",
    "    print(column, dataframe[column].is_unique, dataframe[column].isna().sum())"
   ]
  },
  {
   "cell_type": "code",
   "execution_count": null,
   "id": "bc7987ff-766b-4cbd-bda4-d755d4d8e19d",
   "metadata": {},
   "outputs": [],
   "source": []
  }
 ],
 "metadata": {
  "kernelspec": {
   "display_name": "Python 3 (ipykernel)",
   "language": "python",
   "name": "python3"
  },
  "language_info": {
   "codemirror_mode": {
    "name": "ipython",
    "version": 3
   },
   "file_extension": ".py",
   "mimetype": "text/x-python",
   "name": "python",
   "nbconvert_exporter": "python",
   "pygments_lexer": "ipython3",
   "version": "3.12.4"
  }
 },
 "nbformat": 4,
 "nbformat_minor": 5
}
